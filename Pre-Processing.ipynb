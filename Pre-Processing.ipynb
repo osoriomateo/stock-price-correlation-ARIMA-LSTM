{
 "cells": [
  {
   "cell_type": "code",
   "execution_count": 2,
   "metadata": {},
   "outputs": [],
   "source": [
    "import numpy as np\n",
    "import matplotlib.pyplot as plt\n",
    "import pandas as pd\n",
    "import math\n",
    "import os\n",
    "import random"
   ]
  },
  {
   "cell_type": "code",
   "execution_count": 8,
   "metadata": {},
   "outputs": [
    {
     "name": "stdout",
     "output_type": "stream",
     "text": [
      "86 stocks selected\n",
      "['SLB_2015-12-30_2021-02-21_minute.csv', 'XOM_2018-09-05_2021-02-21_minute.csv', 'CME_2015-12-30_2021-02-21_minute.csv', 'MPC_2015-12-30_2021-02-21_minute.csv', 'V_2018-09-05_2021-02-21_minute.csv', 'MCD_2018-09-05_2021-02-21_minute.csv', 'LUV_2015-12-30_2021-02-21_minute.csv', 'AVGO_2015-12-30_2021-02-21_minute.csv', 'PFE_2018-09-05_2021-02-21_minute.csv', 'TGT_2015-12-30_2021-02-21_minute.csv', 'TWTR_2015-12-30_2021-02-21_minute.csv', 'CVX_2015-12-30_2021-02-21_minute.csv', 'GOOGL_2015-12-30_2021-02-21_minute.csv', 'DIS_2018-09-05_2021-02-21_minute.csv', 'EBAY_2015-12-30_2021-02-21_minute.csv', 'QCOM_2015-12-30_2021-02-21_minute.csv', 'MRK_2018-09-05_2021-02-21_minute.csv', 'TSLA_2015-12-30_2021-02-21_minute.csv', 'CBOE_2015-12-30_2021-02-21_minute.csv', 'BIIB_2015-12-30_2021-02-21_minute.csv', 'GOOG_2015-12-30_2021-02-21_minute.csv', 'HD_2018-09-05_2021-02-21_minute.csv', 'TSN_2015-12-30_2021-02-21_minute.csv', 'HPQ_2015-12-30_2021-02-21_minute.csv', 'F_2015-12-30_2021-02-21_minute.csv', 'MA_2015-12-30_2021-02-21_minute.csv', 'AAL_2015-12-30_2021-02-21_minute.csv', 'CMCSA_2015-12-30_2021-02-21_minute.csv', 'CB_2015-12-30_2021-02-21_minute.csv', 'GS_2018-09-05_2021-02-21_minute.csv', 'GILD_2015-12-30_2021-02-21_minute.csv', 'IBM_2018-09-05_2021-02-21_minute.csv', 'VLO_2015-12-30_2021-02-21_minute.csv', 'HON_2015-12-30_2021-02-21_minute.csv', 'ABT_2015-12-30_2021-02-21_minute.csv', 'KO_2018-09-05_2021-02-21_minute.csv', 'TRV_2018-09-05_2021-02-21_minute.csv', 'CVS_2015-12-30_2021-02-21_minute.csv', 'LMT_2015-12-30_2021-02-21_minute.csv', 'FCX_2015-12-30_2021-02-21_minute.csv', 'WMT_2018-09-05_2021-02-21_minute.csv', 'BA_2015-12-30_2021-02-21_minute.csv', 'INTC_2018-09-05_2021-02-21_minute.csv', 'VZ_2018-09-05_2021-02-21_minute.csv', 'JNJ_2018-09-05_2021-02-21_minute.csv', 'OXY_2015-12-30_2021-02-21_minute.csv', 'MSFT_2018-09-05_2021-02-21_minute.csv', 'KHC_2015-12-30_2021-02-21_minute.csv', 'WBA_2018-09-05_2021-02-21_minute.csv', 'NVDA_2015-12-30_2021-02-21_minute.csv', 'CAT_2015-12-30_2021-02-21_minute.csv', 'AIG_2015-12-30_2021-02-21_minute.csv', 'PG_2018-09-05_2021-02-21_minute.csv', 'AMGN_2015-12-30_2021-02-21_minute.csv', 'MET_2015-12-30_2021-02-21_minute.csv', 'MAR_2015-12-30_2021-02-21_minute.csv', 'WFC_2015-12-30_2021-02-21_minute.csv', 'DAL_2015-12-30_2021-02-21_minute.csv', 'LLY_2015-12-30_2021-02-21_minute.csv', 'AAPL_2015-12-30_2021-02-21_minute.csv', 'TMO_2015-12-30_2021-02-21_minute.csv', 'AMZN_2015-12-30_2021-02-21_minute.csv', 'TMUS_2015-12-30_2021-02-21_minute.csv', 'PEP_2015-12-30_2021-02-21_minute.csv', 'JPM_2018-09-05_2021-02-21_minute.csv', 'ALB_2015-12-30_2021-02-21_minute.csv', 'CSCO_2018-09-05_2021-02-21_minute.csv', 'KR_2015-12-30_2021-02-21_minute.csv', 'FDX_2015-12-30_2021-02-21_minute.csv', 'MMM_2015-12-30_2021-02-21_minute.csv', 'UAL_2015-12-30_2021-02-21_minute.csv', 'FB_2015-12-30_2021-02-21_minute.csv', 'XRX_2015-12-30_2021-02-21_minute.csv', 'GM_2015-12-30_2021-02-21_minute.csv', 'NFLX_2015-12-30_2021-02-21_minute.csv', 'BAC_2015-12-30_2021-02-21_minute.csv', 'UNH_2018-09-05_2021-02-21_minute.csv', 'REGN_2015-12-30_2021-02-21_minute.csv', 'ABBV_2015-12-30_2021-02-21_minute.csv', 'SO_2015-12-30_2021-02-21_minute.csv', 'COP_2015-12-30_2021-02-21_minute.csv', 'GE_2015-12-30_2021-02-21_minute.csv', 'AXP_2015-12-30_2021-02-21_minute.csv', 'NKE_2018-09-05_2021-02-21_minute.csv', 'T_2015-12-30_2021-02-21_minute.csv', 'BLK_2015-12-30_2021-02-21_minute.csv']\n"
     ]
    }
   ],
   "source": [
    "path = os.getcwd() + '/historical_price'\n",
    "stock08 = []\n",
    "for file in os.listdir(path):\n",
    "    file_path = path + '/' + file\n",
    "    date = pd.read_csv(file_path)['t']\n",
    "    if len(date)>0:\n",
    "        stock08.append(file)\n",
    "print(str(len(stock08))+\" stocks selected\")\n",
    "print(stock08)\n"
   ]
  },
  {
   "cell_type": "code",
   "execution_count": 56,
   "metadata": {},
   "outputs": [],
   "source": [
    "stock_price_dict = {}\n",
    "\n",
    "for file in stock08 :\n",
    "    path = os.getcwd() + '/historical_price/' + file\n",
    "    df = pd.read_csv(path)\n",
    "    df['t'] = pd.to_datetime(df['t'], utc = True)\n",
    "    df = df[df.t >= '2018-09-10']\n",
    "    df = df.set_index(pd.DatetimeIndex(df['t']))\n",
    "    df['c'] = df.c.resample('D').mean()\n",
    "    stock_price_dict[file.split(\"_\")[0]] = df['c']\n",
    "\n",
    "# market_path = \"C:/Users/Froilan/Desktop/myFiles/JupyterFiles/stock_correlation_prediction/SP500_index.csv\"\n",
    "# df = pd.read_csv(market_path)\n",
    "# pd.to_datetime(df['Date'], format='%Y-%m-%d')\n",
    "# df = df.set_index(pd.DatetimeIndex(df['Date']))\n",
    "# stock_price_dict['SP500'] = df['Adj Close']\n",
    "    \n",
    "stock_price_df = pd.DataFrame(stock_price_dict)\n"
   ]
  },
  {
   "cell_type": "code",
   "execution_count": 57,
   "metadata": {},
   "outputs": [
    {
     "name": "stdout",
     "output_type": "stream",
     "text": [
      "                           SLB  XOM  CME  MPC   V  MCD  LUV  AVGO  PFE  TGT  \\\n",
      "t                                                                             \n",
      "2018-09-10 08:00:00+00:00  NaN  NaN  NaN  NaN NaN  NaN  NaN   NaN  NaN  NaN   \n",
      "2018-09-10 08:01:00+00:00  NaN  NaN  NaN  NaN NaN  NaN  NaN   NaN  NaN  NaN   \n",
      "2018-09-10 08:03:00+00:00  NaN  NaN  NaN  NaN NaN  NaN  NaN   NaN  NaN  NaN   \n",
      "2018-09-10 08:05:00+00:00  NaN  NaN  NaN  NaN NaN  NaN  NaN   NaN  NaN  NaN   \n",
      "2018-09-10 08:06:00+00:00  NaN  NaN  NaN  NaN NaN  NaN  NaN   NaN  NaN  NaN   \n",
      "\n",
      "                           ...  UNH  REGN  ABBV  SO  COP  GE  AXP  NKE   T  \\\n",
      "t                          ...                                               \n",
      "2018-09-10 08:00:00+00:00  ...  NaN   NaN   NaN NaN  NaN NaN  NaN  NaN NaN   \n",
      "2018-09-10 08:01:00+00:00  ...  NaN   NaN   NaN NaN  NaN NaN  NaN  NaN NaN   \n",
      "2018-09-10 08:03:00+00:00  ...  NaN   NaN   NaN NaN  NaN NaN  NaN  NaN NaN   \n",
      "2018-09-10 08:05:00+00:00  ...  NaN   NaN   NaN NaN  NaN NaN  NaN  NaN NaN   \n",
      "2018-09-10 08:06:00+00:00  ...  NaN   NaN   NaN NaN  NaN NaN  NaN  NaN NaN   \n",
      "\n",
      "                           BLK  \n",
      "t                               \n",
      "2018-09-10 08:00:00+00:00  NaN  \n",
      "2018-09-10 08:01:00+00:00  NaN  \n",
      "2018-09-10 08:03:00+00:00  NaN  \n",
      "2018-09-10 08:05:00+00:00  NaN  \n",
      "2018-09-10 08:06:00+00:00  NaN  \n",
      "\n",
      "[5 rows x 86 columns]\n"
     ]
    }
   ],
   "source": [
    "print(stock_price_df.head())"
   ]
  },
  {
   "cell_type": "code",
   "execution_count": 58,
   "metadata": {},
   "outputs": [
    {
     "name": "stdout",
     "output_type": "stream",
     "text": [
      "SLB [     0      1      2 ... 565728 565729 565730]\n",
      "XOM [     0      1      2 ... 565728 565729 565730]\n",
      "CME [     0      1      2 ... 565728 565729 565730]\n",
      "MPC [     0      1      2 ... 565728 565729 565730]\n",
      "V [     0      1      2 ... 565728 565729 565730]\n",
      "MCD [     0      1      2 ... 565728 565729 565730]\n",
      "LUV [     0      1      2 ... 565728 565729 565730]\n",
      "AVGO [     0      1      2 ... 565728 565729 565730]\n",
      "PFE [     0      1      2 ... 565728 565729 565730]\n",
      "TGT [     0      1      2 ... 565728 565729 565730]\n",
      "TWTR [     0      1      2 ... 565728 565729 565730]\n",
      "CVX [     0      1      2 ... 565728 565729 565730]\n",
      "GOOGL [     0      1      2 ... 565728 565729 565730]\n",
      "DIS [     0      1      2 ... 565728 565729 565730]\n",
      "EBAY [     0      1      2 ... 565728 565729 565730]\n",
      "QCOM [     0      1      2 ... 565728 565729 565730]\n",
      "MRK [     0      1      2 ... 565728 565729 565730]\n",
      "TSLA [     0      1      2 ... 565728 565729 565730]\n",
      "CBOE [     0      1      2 ... 565728 565729 565730]\n",
      "BIIB [     0      1      2 ... 565728 565729 565730]\n",
      "GOOG [     0      1      2 ... 565728 565729 565730]\n",
      "HD [     0      1      2 ... 565728 565729 565730]\n",
      "TSN [     0      1      2 ... 565728 565729 565730]\n",
      "HPQ [     0      1      2 ... 565728 565729 565730]\n",
      "F [     0      1      2 ... 565728 565729 565730]\n",
      "MA [     0      1      2 ... 565728 565729 565730]\n",
      "AAL [     0      1      2 ... 565728 565729 565730]\n",
      "CMCSA [     0      1      2 ... 565728 565729 565730]\n",
      "CB [     0      1      2 ... 565728 565729 565730]\n",
      "GS [     0      1      2 ... 565728 565729 565730]\n",
      "GILD [     0      1      2 ... 565728 565729 565730]\n",
      "IBM [     0      1      2 ... 565728 565729 565730]\n",
      "VLO [     0      1      2 ... 565728 565729 565730]\n",
      "HON [     0      1      2 ... 565728 565729 565730]\n",
      "ABT [     0      1      2 ... 565728 565729 565730]\n",
      "KO [     0      1      2 ... 565728 565729 565730]\n",
      "TRV [     0      1      2 ... 565728 565729 565730]\n",
      "CVS [     0      1      2 ... 565728 565729 565730]\n",
      "LMT [     0      1      2 ... 565728 565729 565730]\n",
      "FCX [     0      1      2 ... 565728 565729 565730]\n",
      "WMT [     0      1      2 ... 565728 565729 565730]\n",
      "BA [     0      1      2 ... 565728 565729 565730]\n",
      "INTC [     0      1      2 ... 565728 565729 565730]\n",
      "VZ [     0      1      2 ... 565728 565729 565730]\n",
      "JNJ [     0      1      2 ... 565728 565729 565730]\n",
      "OXY [     0      1      2 ... 565728 565729 565730]\n",
      "MSFT [     0      1      2 ... 565728 565729 565730]\n",
      "KHC [     0      1      2 ... 565728 565729 565730]\n",
      "WBA [     0      1      2 ... 565728 565729 565730]\n",
      "NVDA [     0      1      2 ... 565728 565729 565730]\n",
      "CAT [     0      1      2 ... 565728 565729 565730]\n",
      "AIG [     0      1      2 ... 565728 565729 565730]\n",
      "PG [     0      1      2 ... 565728 565729 565730]\n",
      "AMGN [     0      1      2 ... 565728 565729 565730]\n",
      "MET [     0      1      2 ... 565728 565729 565730]\n",
      "MAR [     0      1      2 ... 565728 565729 565730]\n",
      "WFC [     0      1      2 ... 565728 565729 565730]\n",
      "DAL [     0      1      2 ... 565728 565729 565730]\n",
      "LLY [     0      1      2 ... 565728 565729 565730]\n",
      "AAPL [     0      1      2 ... 565728 565729 565730]\n",
      "TMO [     0      1      2 ... 565728 565729 565730]\n",
      "AMZN [     0      1      2 ... 565728 565729 565730]\n",
      "TMUS [     0      1      2 ... 565728 565729 565730]\n",
      "PEP [     0      1      2 ... 565728 565729 565730]\n",
      "JPM [     0      1      2 ... 565728 565729 565730]\n",
      "ALB [     0      1      2 ... 565728 565729 565730]\n",
      "CSCO [     0      1      2 ... 565728 565729 565730]\n",
      "KR [     0      1      2 ... 565728 565729 565730]\n",
      "FDX [     0      1      2 ... 565728 565729 565730]\n",
      "MMM [     0      1      2 ... 565728 565729 565730]\n",
      "UAL [     0      1      2 ... 565728 565729 565730]\n",
      "FB [     0      1      2 ... 565728 565729 565730]\n",
      "XRX [     0      1      2 ... 565728 565729 565730]\n",
      "GM [     0      1      2 ... 565728 565729 565730]\n",
      "NFLX [     0      1      2 ... 565728 565729 565730]\n",
      "BAC [     0      1      2 ... 565728 565729 565730]\n",
      "UNH [     0      1      2 ... 565728 565729 565730]\n",
      "REGN [     0      1      2 ... 565728 565729 565730]\n",
      "ABBV [     0      1      2 ... 565728 565729 565730]\n",
      "SO [     0      1      2 ... 565728 565729 565730]\n",
      "COP [     0      1      2 ... 565728 565729 565730]\n",
      "GE [     0      1      2 ... 565728 565729 565730]\n",
      "AXP [     0      1      2 ... 565728 565729 565730]\n",
      "NKE [     0      1      2 ... 565728 565729 565730]\n",
      "T [     0      1      2 ... 565728 565729 565730]\n",
      "BLK [     0      1      2 ... 565728 565729 565730]\n"
     ]
    }
   ],
   "source": [
    "NA_col = []\n",
    "NA_ratio = []\n",
    "for col in stock_price_df.columns :\n",
    "    na_index = np.where(stock_price_df[col].isnull())[0]\n",
    "    NA_col.append(col)\n",
    "    NA_ratio.append(len(na_index)/stock_price_df.shape[0] * 100)\n",
    "    print(col,na_index)\n",
    "NA_df = pd.DataFrame({'tickers':NA_col,'NA_ratio':NA_ratio})"
   ]
  },
  {
   "cell_type": "code",
   "execution_count": 59,
   "metadata": {},
   "outputs": [
    {
     "data": {
      "image/png": "[encoded data removed]",
      "text/plain": [
       "<Figure size 1296x288 with 1 Axes>"
      ]
     },
     "metadata": {
      "needs_background": "light"
     },
     "output_type": "display_data"
    }
   ],
   "source": [
    "NA_df.plot.bar(rot=0, figsize=(18,4))\n",
    "plt.tick_params(axis='x', which='both', bottom=True, top=False, labelbottom=False)\n",
    "plt.xlabel('tickers')\n",
    "plt.ylabel('NA ratio (%)')\n",
    "plt.show()\n",
    "plt.close()"
   ]
  },
  {
   "cell_type": "code",
   "execution_count": null,
   "metadata": {},
   "outputs": [],
   "source": []
  }
 ],
 "metadata": {
  "kernelspec": {
   "display_name": "Python 3",
   "language": "python",
   "name": "python3"
  },
  "language_info": {
   "codemirror_mode": {
    "name": "ipython",
    "version": 3
   },
   "file_extension": ".py",
   "mimetype": "text/x-python",
   "name": "python",
   "nbconvert_exporter": "python",
   "pygments_lexer": "ipython3",
   "version": "3.8.5"
  }
 },
 "nbformat": 4,
 "nbformat_minor": 4
}
